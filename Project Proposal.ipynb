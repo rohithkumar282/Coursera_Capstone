{
    "cells": [
        {
            "cell_type": "markdown",
            "metadata": {
                "collapsed": true
            },
            "source": "# Business Proposal\n\n# Use of Location Data for effective taxi business improvement in New York\n\n## Problem Background\n\nNew York City, being the most populous city in the United States, has a vast and complex transportation system, including one of the largest subway systems in the world and a large fleet of more than 13,000 yellow and green taxis, that have become iconic subjects in photographs and movies.\n\nThe subway system digests the lion share of NYC's public transport use, but the 54% of NYC's residents that don't own a car and therefore rely on public transportation still take almost 200 million taxi trips per year!\n\n## Problem Description\n\nNew york city is a dream destination for many people around the world. This place is densely populated and prone to heavy traffic all throughout the day. By analysing the mode of transportation in this part of the world, it is understood that it is mostly public transport and taxis owing to heavy traffic and high parking prices. This project aims to help taxi drivers in finding passengers all throughout the day such that their profits are maximised and also help taxi organizations to increase their annual profits and shares.\n\nThere are many problems faced by taxi company some of them are:\n     1. Proper pickup location for passengers based on timing and day: for example during the afternoon walmarts, costco and safeway are the place to pickup people where as on friday nights downtown's are the trending place.\n     2. Assigning efficiently the cabs to passengers and also determine the duration of the current trip so it can predict when the cab will be free for the future trip. \n \nThese two problems are solved based on pickup/dropof\n\n## Beneficiaries\n\nCab drivers and taxi companies.\n\n## Target audience\nPublic of New York.\n"
        }
    ],
    "metadata": {
        "kernelspec": {
            "display_name": "Python 3.6",
            "language": "python",
            "name": "python3"
        },
        "language_info": {
            "codemirror_mode": {
                "name": "ipython",
                "version": 3
            },
            "file_extension": ".py",
            "mimetype": "text/x-python",
            "name": "python",
            "nbconvert_exporter": "python",
            "pygments_lexer": "ipython3",
            "version": "3.6.9"
        }
    },
    "nbformat": 4,
    "nbformat_minor": 1
}