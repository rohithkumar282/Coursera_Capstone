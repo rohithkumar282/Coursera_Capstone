{
    "cells": [
        {
            "cell_type": "markdown",
            "metadata": {
                "collapsed": true
            },
            "source": "## Dataset Used:\n\n     The dataset used is https://www.kaggle.com/c/nyc-taxi-trip-duration\n     \n## Dataset Description\n\n    The desciption is taken from the source\nid - a unique identifier for each trip\nvendor_id - a code indicating the provider associated with the trip record\npickup_datetime - date and time when the meter was engaged\ndropoff_datetime - date and time when the meter was disengaged\npassenger_count - the number of passengers in the vehicle (driver entered value)\npickup_longitude - the longitude where the meter was engaged\npickup_latitude - the latitude where the meter was engaged\ndropoff_longitude - the longitude where the meter was disengaged\ndropoff_latitude - the latitude where the meter was disengaged\nstore_and_fwd_flag - This flag indicates whether the trip record was held in vehicle memory before sending to the vendor because the vehicle did not have a connection to the server - Y=store and forward; N=not a store and forward trip\ntrip_duration - duration of the trip in seconds\n\n## Additional API\n\n    Foursquare Location API - https://developer.foursquare.com/ - for location information\n    \n## How Dataset is used:\n\n     The dataset is used to primarily identify pickup locations based on timing and day and to cluster places based on these two categories as well. The pickup locations are used to cluster and trip duration is used to estimate the time left so that they can schedule the pickup for next customer. The longitude and latitude is used for visualisat"
        }
    ],
    "metadata": {
        "kernelspec": {
            "display_name": "Python 3.6",
            "language": "python",
            "name": "python3"
        },
        "language_info": {
            "codemirror_mode": {
                "name": "ipython",
                "version": 3
            },
            "file_extension": ".py",
            "mimetype": "text/x-python",
            "name": "python",
            "nbconvert_exporter": "python",
            "pygments_lexer": "ipython3",
            "version": "3.6.9"
        }
    },
    "nbformat": 4,
    "nbformat_minor": 1
}